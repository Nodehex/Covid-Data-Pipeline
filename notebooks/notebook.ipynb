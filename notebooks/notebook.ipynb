{
 "nbformat": 4,
 "nbformat_minor": 2,
 "metadata": {
  "language_info": {
   "name": "python",
   "codemirror_mode": {
    "name": "ipython",
    "version": 3
   },
   "version": "3.8.2-final"
  },
  "orig_nbformat": 2,
  "file_extension": ".py",
  "mimetype": "text/x-python",
  "name": "python",
  "npconvert_exporter": "python",
  "pygments_lexer": "ipython3",
  "version": 3,
  "kernelspec": {
   "name": "python38164bit638f72aefd2f47178f943daedb64d133",
   "display_name": "Python 3.8.1 64-bit"
  }
 },
 "cells": [
  {
   "cell_type": "code",
   "execution_count": 1,
   "metadata": {},
   "outputs": [],
   "source": [
    "import os\n",
    "import pandas as pd\n",
    "import json"
   ]
  },
  {
   "cell_type": "code",
   "execution_count": 2,
   "metadata": {},
   "outputs": [],
   "source": [
    "json_dir = 'json'\n",
    "csv_dir = '../csv'\n",
    "\n",
    "if not os.path.isdir(csv_dir):\n",
    "    raise NameError('csv folder doesnt exist')\n",
    "\n",
    "os.makedirs(json_dir, exist_ok=True)"
   ]
  },
  {
   "cell_type": "code",
   "execution_count": 3,
   "metadata": {},
   "outputs": [],
   "source": [
    "def get_csv_data(file_name, columns_title):\n",
    "    file_path = os.path.join(csv_dir, f'{file_name}.csv')\n",
    "    data = pd.read_csv(file_path, index_col=0)\n",
    "    data = data.unstack().to_frame()\n",
    "    data.columns = [columns_title]\n",
    "    return data"
   ]
  },
  {
   "cell_type": "code",
   "execution_count": 61,
   "metadata": {},
   "outputs": [],
   "source": [
    "def get_percentage(df, column_factor_name, suffix):\n",
    "    percent_column_name = f'percentage_{suffix}'\n",
    "    df[percent_column_name] = df.pct_change(axis=1,fill_method='ffill')[column_factor_name]\n",
    "    df[percent_column_name] = df[percent_column_name].abs() * 100\n",
    "    df[percent_column_name] = df[percent_column_name].replace({0:100,100:0})\n",
    "    return df"
   ]
  },
  {
   "cell_type": "code",
   "execution_count": 64,
   "metadata": {},
   "outputs": [],
   "source": [
    "cases = get_csv_data('total_cases', 'cases')\n",
    "new_cases = get_csv_data('new_cases', 'new_cases')\n",
    "cases = cases.join(new_cases)\n",
    "cases = get_percentage(cases,'new_cases', 'cases')"
   ]
  },
  {
   "cell_type": "code",
   "execution_count": 65,
   "metadata": {},
   "outputs": [],
   "source": [
    "deaths = get_csv_data('total_deaths', 'deaths')\n",
    "new_deaths = get_csv_data('new_deaths', 'new_deaths')\n",
    "deaths = deaths.join(new_deaths)\n",
    "deaths = get_percentage(deaths,'new_deaths','deaths')"
   ]
  },
  {
   "cell_type": "code",
   "execution_count": 66,
   "metadata": {},
   "outputs": [],
   "source": [
    "df = cases.join(deaths)\n",
    "df = df.reset_index(level=[1])"
   ]
  },
  {
   "cell_type": "code",
   "execution_count": 67,
   "metadata": {},
   "outputs": [],
   "source": [
    "data = {}\n",
    "for group in df.groupby(level=0):\n",
    "    data[group[0]] = { \n",
    "        'cases': group[1][['date', 'cases']].values.tolist(),\n",
    "        'newCases': group[1][['date', 'new_cases']].values.tolist(),\n",
    "        'casesPct': group[1][['date', 'percentage_cases']].values.tolist(),\n",
    "        'deaths': group[1][['date', 'deaths']].values.tolist(),\n",
    "        'newDeaths': group[1][['date', 'new_deaths']].values.tolist(),\n",
    "        'deathsPct': group[1][['date', 'percentage_deaths']].values.tolist(),\n",
    "\n",
    "    }"
   ]
  },
  {
   "cell_type": "code",
   "execution_count": 68,
   "metadata": {},
   "outputs": [
    {
     "output_type": "execute_result",
     "data": {
      "text/plain": "2279424"
     },
     "metadata": {},
     "execution_count": 68
    }
   ],
   "source": [
    "file_name = 'full_data'\n",
    "open(f'./json/{file_name}.json', 'w').write(json.dumps(data))"
   ]
  },
  {
   "cell_type": "code",
   "execution_count": null,
   "metadata": {},
   "outputs": [],
   "source": []
  }
 ]
}