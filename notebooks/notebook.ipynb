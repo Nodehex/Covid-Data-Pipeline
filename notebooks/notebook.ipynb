{
 "nbformat": 4,
 "nbformat_minor": 2,
 "metadata": {
  "language_info": {
   "name": "python",
   "codemirror_mode": {
    "name": "ipython",
    "version": 3
   },
   "version": "3.7.6-final"
  },
  "orig_nbformat": 2,
  "file_extension": ".py",
  "mimetype": "text/x-python",
  "name": "python",
  "npconvert_exporter": "python",
  "pygments_lexer": "ipython3",
  "version": 3,
  "kernelspec": {
   "name": "python37664bitbaseconda1316665e01114a8a99975f298458928d",
   "display_name": "Python 3.7.6 64-bit ('base': conda)"
  }
 },
 "cells": [
  {
   "cell_type": "code",
   "execution_count": 5,
   "metadata": {},
   "outputs": [],
   "source": [
    "import os\n",
    "import pandas as pd\n",
    "import json"
   ]
  },
  {
   "cell_type": "code",
   "execution_count": 6,
   "metadata": {},
   "outputs": [],
   "source": [
    "json_dir = 'json'\n",
    "csv_dir = '../csv'\n",
    "\n",
    "if not os.path.isdir(csv_dir):\n",
    "    raise NameError('csv folder doesnt exist')\n",
    "\n",
    "os.makedirs(json_dir, exist_ok=True)"
   ]
  },
  {
   "cell_type": "code",
   "execution_count": 7,
   "metadata": {},
   "outputs": [],
   "source": [
    "def get_csv_data(file_name, columns_title):\n",
    "    file_path = os.path.join(csv_dir, f'{file_name}.csv')\n",
    "    data = pd.read_csv(file_path, index_col=0)\n",
    "    data = data.unstack().to_frame()\n",
    "    data.columns = [columns_title]\n",
    "    return data"
   ]
  },
  {
   "cell_type": "code",
   "execution_count": 21,
   "metadata": {},
   "outputs": [],
   "source": [
    "cases = get_csv_data('total_cases', 'cases')\n",
    "new_cases = get_csv_data('new_cases', 'new_cases')\n",
    "cases = cases.join(new_cases)"
   ]
  },
  {
   "cell_type": "code",
   "execution_count": 16,
   "metadata": {},
   "outputs": [
    {
     "output_type": "execute_result",
     "data": {
      "text/plain": "                     cases  new_cases\n         date                        \nWorld    2019-12-31   27.0       27.0\n         2020-01-01   27.0        0.0\n         2020-01-02   27.0        0.0\n         2020-01-03   44.0       17.0\n         2020-01-04   44.0        0.0\n...                    ...        ...\nZimbabwe 2020-03-24    2.0        0.0\n         2020-03-25    2.0        0.0\n         2020-03-26    3.0        1.0\n         2020-03-27    3.0        0.0\n         2020-03-28    5.0        2.0\n\n[17533 rows x 2 columns]",
      "text/html": "<div>\n<style scoped>\n    .dataframe tbody tr th:only-of-type {\n        vertical-align: middle;\n    }\n\n    .dataframe tbody tr th {\n        vertical-align: top;\n    }\n\n    .dataframe thead th {\n        text-align: right;\n    }\n</style>\n<table border=\"1\" class=\"dataframe\">\n  <thead>\n    <tr style=\"text-align: right;\">\n      <th></th>\n      <th></th>\n      <th>cases</th>\n      <th>new_cases</th>\n    </tr>\n    <tr>\n      <th></th>\n      <th>date</th>\n      <th></th>\n      <th></th>\n    </tr>\n  </thead>\n  <tbody>\n    <tr>\n      <th rowspan=\"5\" valign=\"top\">World</th>\n      <th>2019-12-31</th>\n      <td>27.0</td>\n      <td>27.0</td>\n    </tr>\n    <tr>\n      <th>2020-01-01</th>\n      <td>27.0</td>\n      <td>0.0</td>\n    </tr>\n    <tr>\n      <th>2020-01-02</th>\n      <td>27.0</td>\n      <td>0.0</td>\n    </tr>\n    <tr>\n      <th>2020-01-03</th>\n      <td>44.0</td>\n      <td>17.0</td>\n    </tr>\n    <tr>\n      <th>2020-01-04</th>\n      <td>44.0</td>\n      <td>0.0</td>\n    </tr>\n    <tr>\n      <th>...</th>\n      <th>...</th>\n      <td>...</td>\n      <td>...</td>\n    </tr>\n    <tr>\n      <th rowspan=\"5\" valign=\"top\">Zimbabwe</th>\n      <th>2020-03-24</th>\n      <td>2.0</td>\n      <td>0.0</td>\n    </tr>\n    <tr>\n      <th>2020-03-25</th>\n      <td>2.0</td>\n      <td>0.0</td>\n    </tr>\n    <tr>\n      <th>2020-03-26</th>\n      <td>3.0</td>\n      <td>1.0</td>\n    </tr>\n    <tr>\n      <th>2020-03-27</th>\n      <td>3.0</td>\n      <td>0.0</td>\n    </tr>\n    <tr>\n      <th>2020-03-28</th>\n      <td>5.0</td>\n      <td>2.0</td>\n    </tr>\n  </tbody>\n</table>\n<p>17533 rows × 2 columns</p>\n</div>"
     },
     "metadata": {},
     "execution_count": 16
    }
   ],
   "source": [
    "cases"
   ]
  },
  {
   "cell_type": "code",
   "execution_count": 22,
   "metadata": {},
   "outputs": [],
   "source": [
    "cases['percentage'] = cases.pct_change(axis=1,fill_method='ffill')['new_cases']"
   ]
  },
  {
   "cell_type": "code",
   "execution_count": 23,
   "metadata": {},
   "outputs": [
    {
     "output_type": "execute_result",
     "data": {
      "text/plain": "                     cases  new_cases  percentage\n         date                                    \nWorld    2019-12-31   27.0       27.0    0.000000\n         2020-01-01   27.0        0.0   -1.000000\n         2020-01-02   27.0        0.0   -1.000000\n         2020-01-03   44.0       17.0   -0.613636\n         2020-01-04   44.0        0.0   -1.000000\n...                    ...        ...         ...\nZimbabwe 2020-03-24    2.0        0.0   -1.000000\n         2020-03-25    2.0        0.0   -1.000000\n         2020-03-26    3.0        1.0   -0.666667\n         2020-03-27    3.0        0.0   -1.000000\n         2020-03-28    5.0        2.0   -0.600000\n\n[17533 rows x 3 columns]",
      "text/html": "<div>\n<style scoped>\n    .dataframe tbody tr th:only-of-type {\n        vertical-align: middle;\n    }\n\n    .dataframe tbody tr th {\n        vertical-align: top;\n    }\n\n    .dataframe thead th {\n        text-align: right;\n    }\n</style>\n<table border=\"1\" class=\"dataframe\">\n  <thead>\n    <tr style=\"text-align: right;\">\n      <th></th>\n      <th></th>\n      <th>cases</th>\n      <th>new_cases</th>\n      <th>percentage</th>\n    </tr>\n    <tr>\n      <th></th>\n      <th>date</th>\n      <th></th>\n      <th></th>\n      <th></th>\n    </tr>\n  </thead>\n  <tbody>\n    <tr>\n      <th rowspan=\"5\" valign=\"top\">World</th>\n      <th>2019-12-31</th>\n      <td>27.0</td>\n      <td>27.0</td>\n      <td>0.000000</td>\n    </tr>\n    <tr>\n      <th>2020-01-01</th>\n      <td>27.0</td>\n      <td>0.0</td>\n      <td>-1.000000</td>\n    </tr>\n    <tr>\n      <th>2020-01-02</th>\n      <td>27.0</td>\n      <td>0.0</td>\n      <td>-1.000000</td>\n    </tr>\n    <tr>\n      <th>2020-01-03</th>\n      <td>44.0</td>\n      <td>17.0</td>\n      <td>-0.613636</td>\n    </tr>\n    <tr>\n      <th>2020-01-04</th>\n      <td>44.0</td>\n      <td>0.0</td>\n      <td>-1.000000</td>\n    </tr>\n    <tr>\n      <th>...</th>\n      <th>...</th>\n      <td>...</td>\n      <td>...</td>\n      <td>...</td>\n    </tr>\n    <tr>\n      <th rowspan=\"5\" valign=\"top\">Zimbabwe</th>\n      <th>2020-03-24</th>\n      <td>2.0</td>\n      <td>0.0</td>\n      <td>-1.000000</td>\n    </tr>\n    <tr>\n      <th>2020-03-25</th>\n      <td>2.0</td>\n      <td>0.0</td>\n      <td>-1.000000</td>\n    </tr>\n    <tr>\n      <th>2020-03-26</th>\n      <td>3.0</td>\n      <td>1.0</td>\n      <td>-0.666667</td>\n    </tr>\n    <tr>\n      <th>2020-03-27</th>\n      <td>3.0</td>\n      <td>0.0</td>\n      <td>-1.000000</td>\n    </tr>\n    <tr>\n      <th>2020-03-28</th>\n      <td>5.0</td>\n      <td>2.0</td>\n      <td>-0.600000</td>\n    </tr>\n  </tbody>\n</table>\n<p>17533 rows × 3 columns</p>\n</div>"
     },
     "metadata": {},
     "execution_count": 23
    }
   ],
   "source": [
    "cases"
   ]
  },
  {
   "cell_type": "code",
   "execution_count": 26,
   "metadata": {},
   "outputs": [],
   "source": [
    "\n",
    "\n",
    "deaths = get_csv_data('total_deaths', 'deaths')\n",
    "\n",
    "new_deaths = get_csv_data('new_deaths', 'new_deaths')\n",
    "\n",
    "df = cases.join(deaths).join(new_deaths)\n",
    "df = df.reset_index(level=[1])"
   ]
  },
  {
   "cell_type": "code",
   "execution_count": null,
   "metadata": {},
   "outputs": [],
   "source": []
  },
  {
   "cell_type": "code",
   "execution_count": 28,
   "metadata": {},
   "outputs": [],
   "source": [
    "data = {}\n",
    "for group in df.groupby(level=0):\n",
    "    data[group[0]] = { \n",
    "        'cases': group[1][['date', 'cases']].values.tolist(),\n",
    "        'deaths': group[1][['date', 'deaths']].values.tolist(),\n",
    "        'newCases': group[1][['date', 'new_cases']].values.tolist(),\n",
    "        'newCasesPerc': group[1][['date', 'percentage']].values.tolist(),\n",
    "        'newDeaths': group[1][['date', 'new_deaths']].values.tolist(),\n",
    "    }"
   ]
  },
  {
   "cell_type": "code",
   "execution_count": 29,
   "metadata": {},
   "outputs": [
    {
     "output_type": "execute_result",
     "data": {
      "text/plain": "1906929"
     },
     "metadata": {},
     "execution_count": 29
    }
   ],
   "source": [
    "file_name = 'full_data'\n",
    "open(f'./json/{file_name}.json', 'w').write(json.dumps(data))"
   ]
  },
  {
   "cell_type": "code",
   "execution_count": null,
   "metadata": {},
   "outputs": [],
   "source": []
  }
 ]
}