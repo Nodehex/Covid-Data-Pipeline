{
 "nbformat": 4,
 "nbformat_minor": 2,
 "metadata": {
  "language_info": {
   "name": "python",
   "codemirror_mode": {
    "name": "ipython",
    "version": 3
   },
   "version": "3.8.0-final"
  },
  "orig_nbformat": 2,
  "file_extension": ".py",
  "mimetype": "text/x-python",
  "name": "python",
  "npconvert_exporter": "python",
  "pygments_lexer": "ipython3",
  "version": 3,
  "kernelspec": {
   "name": "python38064bitwebhookservervenv9213d98fbe6d47a5b3e5b8ae60a89daa",
   "display_name": "Python 3.8.0 64-bit ('webhookserver': venv)"
  }
 },
 "cells": [
  {
   "cell_type": "code",
   "execution_count": 135,
   "metadata": {},
   "outputs": [],
   "source": [
    "import os\n",
    "import pandas as pd\n",
    "import numpy as np\n",
    "import json"
   ]
  },
  {
   "cell_type": "code",
   "execution_count": 136,
   "metadata": {},
   "outputs": [],
   "source": [
    "json_dir = 'json'\n",
    "csv_dir = '../csv'\n",
    "\n",
    "if not os.path.isdir(csv_dir):\n",
    "    raise NameError('csv folder doesnt exist')\n",
    "\n",
    "os.makedirs(json_dir, exist_ok=True)"
   ]
  },
  {
   "cell_type": "code",
   "execution_count": 137,
   "metadata": {},
   "outputs": [],
   "source": [
    "def get_csv_data(file_name, columns_title):\n",
    "    file_path = os.path.join(csv_dir, f'{file_name}.csv')\n",
    "    data = pd.read_csv(file_path, index_col=0)\n",
    "    data = data.unstack().to_frame()\n",
    "    data.columns = [columns_title]\n",
    "    return data"
   ]
  },
  {
   "cell_type": "code",
   "execution_count": 138,
   "metadata": {},
   "outputs": [],
   "source": [
    "def get_percentage(df, column_factor_name):\n",
    "    percent_column_name = f'percentage_{column_factor_name}'\n",
    "    df[percent_column_name] = df[column_factor_name].pct_change(fill_method='ffill')\n",
    "    df[percent_column_name] = df[percent_column_name].abs() * 100\n",
    "    df[percent_column_name] = df[percent_column_name].replace({100:0, np.inf: np.nan})\n",
    "    df = df.fillna(0)\n",
    "    return df"
   ]
  },
  {
   "cell_type": "code",
   "execution_count": 139,
   "metadata": {},
   "outputs": [],
   "source": [
    "cases = get_csv_data('total_cases', 'cases')\n",
    "new_cases = get_csv_data('new_cases', 'new_cases')\n",
    "cases = cases.join(new_cases)\n",
    "cases = get_percentage(cases,'cases')"
   ]
  },
  {
   "cell_type": "code",
   "execution_count": 140,
   "metadata": {},
   "outputs": [],
   "source": [
    "deaths = get_csv_data('total_deaths', 'deaths')\n",
    "new_deaths = get_csv_data('new_deaths', 'new_deaths')\n",
    "deaths = deaths.join(new_deaths)"
   ]
  },
  {
   "cell_type": "code",
   "execution_count": 141,
   "metadata": {},
   "outputs": [],
   "source": [
    "df = cases.join(deaths)\n",
    "df.index.names = ['Country', 'date']\n",
    "df['death_rate'] = df['deaths'] / df['cases'] * 100\n",
    "df = df.fillna(0)\n",
    ""
   ]
  },
  {
   "cell_type": "code",
   "execution_count": 142,
   "metadata": {},
   "outputs": [],
   "source": [
    "alpha3 = pd.read_csv('../data/country_codes.csv')\n",
    "pattern = {'ç': 'c', 'ô': 'o', '’': \"'\", 'é': 'e'}\n",
    "alpha3['Country or Area'] = alpha3['Country or Area'].replace(pattern, regex=True)\n",
    "alpha3['Country or Area'] = alpha3['Country or Area'].str.replace('\\(.*\\)', '',regex=True)\n",
    "alpha3['Country or Area'] = alpha3['Country or Area'].str.replace('\\s+the', '',regex=True)\n",
    "alpha3['Country or Area'] = alpha3['Country or Area'].str.strip()\n",
    "alpha3 = alpha3.set_index('Country or Area')\n",
    "alpha3 = alpha3['ISO-alpha3 code']"
   ]
  },
  {
   "cell_type": "code",
   "execution_count": 143,
   "metadata": {},
   "outputs": [],
   "source": [
    "country_fixes = {'World': 'World', 'Brunei': 'BRN', 'Vatican': 'VAT', 'United States': 'USA', 'United Kingdom': 'GBR', 'International': 'International', 'Tanzania': 'TZA', 'Kosovo': 'RKS','Taiwan': 'TWN', 'Laos': 'LAO', 'Syria': 'SYR', 'Moldova': 'MDA', 'South Korea': 'KOR', 'Palestine': 'PSE', 'Russia': 'RUS', 'Sint Maarten (Dutch part)': 'SXM', 'Saint Vincent and the Grenadines': 'VCT', 'Bonaire, Sint Eustatius and Saba': 'BES', 'Saint Barthelemy': 'BLM'}\n",
    "country_fixes = pd.Series(country_fixes)\n",
    "alpha3 = alpha3.append(country_fixes)"
   ]
  },
  {
   "cell_type": "code",
   "execution_count": 144,
   "metadata": {},
   "outputs": [
    {
     "output_type": "execute_result",
     "data": {
      "text/plain": "'World'"
     },
     "metadata": {},
     "execution_count": 144
    }
   ],
   "source": [
    "alpha3.loc['World']"
   ]
  },
  {
   "cell_type": "code",
   "execution_count": 145,
   "metadata": {},
   "outputs": [],
   "source": [
    "df = df.rename({'Bonaire Sint Eustatius and Saba': 'Bonaire, Sint Eustatius and Saba', 'Czech Republic': 'Czechia', 'Swaziland': 'Eswatini', 'Timor': 'Timor-Leste', 'Faeroe Islands': 'Faroe Islands', 'Macedonia': 'North Macedonia', 'Saint Barthlemy': 'Saint Barthelemy'}, level=0)"
   ]
  },
  {
   "cell_type": "code",
   "execution_count": 146,
   "metadata": {},
   "outputs": [],
   "source": [
    "df['Country'] = df.index.get_level_values(0)\n",
    "df['alpha3'] = df['Country'].map(alpha3)\n",
    "df = df.drop(columns='Country')\n",
    "df = df.reset_index(level=[1])"
   ]
  },
  {
   "cell_type": "code",
   "execution_count": 147,
   "metadata": {},
   "outputs": [],
   "source": [
    "df.to_csv('../data/full_data.csv')"
   ]
  },
  {
   "cell_type": "code",
   "execution_count": 148,
   "metadata": {},
   "outputs": [],
   "source": [
    "data = {}\n",
    "for group in df.groupby(level=0):\n",
    "    data[group[0]] = {\n",
    "        'alpha3': group[1]['alpha3'].unique()[0],\n",
    "        'cases': group[1][['date', 'cases']].values.tolist(),\n",
    "        'newCases': group[1][['date', 'new_cases']].values.tolist(),\n",
    "        'casesPct': group[1][['date', 'percentage_cases']].values.tolist(),\n",
    "        'deaths': group[1][['date', 'deaths']].values.tolist(),\n",
    "        'newDeaths': group[1][['date', 'new_deaths']].values.tolist(),\n",
    "        'deathRate': group[1][['date', 'death_rate']].values.tolist(),\n",
    "\n",
    "    }"
   ]
  },
  {
   "cell_type": "code",
   "execution_count": 149,
   "metadata": {},
   "outputs": [
    {
     "output_type": "execute_result",
     "data": {
      "text/plain": "2626648"
     },
     "metadata": {},
     "execution_count": 149
    }
   ],
   "source": [
    "file_name = 'full_data'\n",
    "open(f'./json/{file_name}.json', 'w').write(json.dumps(data))"
   ]
  },
  {
   "cell_type": "code",
   "execution_count": null,
   "metadata": {},
   "outputs": [],
   "source": []
  }
 ]
}