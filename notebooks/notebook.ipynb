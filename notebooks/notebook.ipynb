{
 "nbformat": 4,
 "nbformat_minor": 2,
 "metadata": {
  "language_info": {
   "name": "python",
   "codemirror_mode": {
    "name": "ipython",
    "version": 3
   },
   "version": "3.8.2-final"
  },
  "orig_nbformat": 2,
  "file_extension": ".py",
  "mimetype": "text/x-python",
  "name": "python",
  "npconvert_exporter": "python",
  "pygments_lexer": "ipython3",
  "version": 3,
  "kernelspec": {
   "name": "python38164bit638f72aefd2f47178f943daedb64d133",
   "display_name": "Python 3.8.1 64-bit"
  }
 },
 "cells": [
  {
   "cell_type": "code",
   "execution_count": 69,
   "metadata": {},
   "outputs": [],
   "source": [
    "import os\n",
    "import pandas as pd\n",
    "import json"
   ]
  },
  {
   "cell_type": "code",
   "execution_count": 86,
   "metadata": {},
   "outputs": [],
   "source": [
    "json_dir = 'json'\n",
    "csv_dir = '../csv'\n",
    "\n",
    "if not os.path.isdir(csv_dir):\n",
    "    raise NameError('csv folder doesnt exist')\n",
    "\n",
    "os.makedirs(json_dir, exist_ok=True)"
   ]
  },
  {
   "cell_type": "code",
   "execution_count": 87,
   "metadata": {},
   "outputs": [],
   "source": [
    "def get_csv_data(file_name, columns_title):\n",
    "    file_path = os.path.join(csv_dir, f'{file_name}.csv')\n",
    "    data = pd.read_csv(file_path, index_col=0)\n",
    "    data = data.unstack().to_frame()\n",
    "    data.columns = [columns_title]\n",
    "    return data"
   ]
  },
  {
   "cell_type": "code",
   "execution_count": 134,
   "metadata": {},
   "outputs": [],
   "source": [
    "def get_percentage(df, column_factor_name):\n",
    "    percent_column_name = f'percentage_{column_factor_name}'\n",
    "    df[percent_column_name] = df[column_factor_name].pct_change(fill_method='ffill')\n",
    "    df[percent_column_name] = df[percent_column_name].abs() * 100\n",
    "    df[percent_column_name] = df[percent_column_name].replace({100:0})\n",
    "    df = df.fillna(0)\n",
    "    return df"
   ]
  },
  {
   "cell_type": "code",
   "execution_count": 136,
   "metadata": {},
   "outputs": [],
   "source": [
    "cases = get_csv_data('total_cases', 'cases')\n",
    "new_cases = get_csv_data('new_cases', 'new_cases')\n",
    "cases = cases.join(new_cases)\n",
    "cases = get_percentage(cases,'cases')"
   ]
  },
  {
   "cell_type": "code",
   "execution_count": 133,
   "metadata": {},
   "outputs": [
    {
     "output_type": "execute_result",
     "data": {
      "text/plain": "                date  cases  new_cases  percentage_cases\nZimbabwe  2019-12-31    0.0        0.0          0.000000\nZimbabwe  2020-01-01    0.0        0.0          0.000000\nZimbabwe  2020-01-02    0.0        0.0          0.000000\nZimbabwe  2020-01-03    0.0        0.0          0.000000\nZimbabwe  2020-01-04    0.0        0.0          0.000000\n...              ...    ...        ...               ...\nZimbabwe  2020-03-24    2.0        0.0          0.000000\nZimbabwe  2020-03-25    2.0        0.0          0.000000\nZimbabwe  2020-03-26    3.0        1.0         50.000000\nZimbabwe  2020-03-27    3.0        0.0          0.000000\nZimbabwe  2020-03-28    5.0        2.0         66.666667\n\n[89 rows x 4 columns]",
      "text/html": "<div>\n<style scoped>\n    .dataframe tbody tr th:only-of-type {\n        vertical-align: middle;\n    }\n\n    .dataframe tbody tr th {\n        vertical-align: top;\n    }\n\n    .dataframe thead th {\n        text-align: right;\n    }\n</style>\n<table border=\"1\" class=\"dataframe\">\n  <thead>\n    <tr style=\"text-align: right;\">\n      <th></th>\n      <th>date</th>\n      <th>cases</th>\n      <th>new_cases</th>\n      <th>percentage_cases</th>\n    </tr>\n  </thead>\n  <tbody>\n    <tr>\n      <th>Zimbabwe</th>\n      <td>2019-12-31</td>\n      <td>0.0</td>\n      <td>0.0</td>\n      <td>0.000000</td>\n    </tr>\n    <tr>\n      <th>Zimbabwe</th>\n      <td>2020-01-01</td>\n      <td>0.0</td>\n      <td>0.0</td>\n      <td>0.000000</td>\n    </tr>\n    <tr>\n      <th>Zimbabwe</th>\n      <td>2020-01-02</td>\n      <td>0.0</td>\n      <td>0.0</td>\n      <td>0.000000</td>\n    </tr>\n    <tr>\n      <th>Zimbabwe</th>\n      <td>2020-01-03</td>\n      <td>0.0</td>\n      <td>0.0</td>\n      <td>0.000000</td>\n    </tr>\n    <tr>\n      <th>Zimbabwe</th>\n      <td>2020-01-04</td>\n      <td>0.0</td>\n      <td>0.0</td>\n      <td>0.000000</td>\n    </tr>\n    <tr>\n      <th>...</th>\n      <td>...</td>\n      <td>...</td>\n      <td>...</td>\n      <td>...</td>\n    </tr>\n    <tr>\n      <th>Zimbabwe</th>\n      <td>2020-03-24</td>\n      <td>2.0</td>\n      <td>0.0</td>\n      <td>0.000000</td>\n    </tr>\n    <tr>\n      <th>Zimbabwe</th>\n      <td>2020-03-25</td>\n      <td>2.0</td>\n      <td>0.0</td>\n      <td>0.000000</td>\n    </tr>\n    <tr>\n      <th>Zimbabwe</th>\n      <td>2020-03-26</td>\n      <td>3.0</td>\n      <td>1.0</td>\n      <td>50.000000</td>\n    </tr>\n    <tr>\n      <th>Zimbabwe</th>\n      <td>2020-03-27</td>\n      <td>3.0</td>\n      <td>0.0</td>\n      <td>0.000000</td>\n    </tr>\n    <tr>\n      <th>Zimbabwe</th>\n      <td>2020-03-28</td>\n      <td>5.0</td>\n      <td>2.0</td>\n      <td>66.666667</td>\n    </tr>\n  </tbody>\n</table>\n<p>89 rows × 4 columns</p>\n</div>"
     },
     "metadata": {},
     "execution_count": 133
    }
   ],
   "source": [
    "cases.filter(regex='Zimbabwe', axis=0)"
   ]
  },
  {
   "cell_type": "code",
   "execution_count": 137,
   "metadata": {},
   "outputs": [],
   "source": [
    "deaths = get_csv_data('total_deaths', 'deaths')\n",
    "new_deaths = get_csv_data('new_deaths', 'new_deaths')\n",
    "deaths = deaths.join(new_deaths)\n",
    "deaths = get_percentage(deaths, 'deaths')"
   ]
  },
  {
   "cell_type": "code",
   "execution_count": 138,
   "metadata": {},
   "outputs": [],
   "source": [
    "df = cases.join(deaths)\n",
    "df = df.fillna(0)\n",
    "df = df.reset_index(level=[1])"
   ]
  },
  {
   "cell_type": "code",
   "execution_count": 67,
   "metadata": {},
   "outputs": [],
   "source": [
    "data = {}\n",
    "for group in df.groupby(level=0):\n",
    "    data[group[0]] = { \n",
    "        'cases': group[1][['date', 'cases']].values.tolist(),\n",
    "        'newCases': group[1][['date', 'new_cases']].values.tolist(),\n",
    "        'casesPct': group[1][['date', 'percentage_cases']].values.tolist(),\n",
    "        'deaths': group[1][['date', 'deaths']].values.tolist(),\n",
    "        'newDeaths': group[1][['date', 'new_deaths']].values.tolist(),\n",
    "        'deathsPct': group[1][['date', 'percentage_deaths']].values.tolist(),\n",
    "\n",
    "    }"
   ]
  },
  {
   "cell_type": "code",
   "execution_count": 68,
   "metadata": {},
   "outputs": [
    {
     "output_type": "execute_result",
     "data": {
      "text/plain": "2279424"
     },
     "metadata": {},
     "execution_count": 68
    }
   ],
   "source": [
    "file_name = 'full_data'\n",
    "open(f'./json/{file_name}.json', 'w').write(json.dumps(data))"
   ]
  },
  {
   "cell_type": "code",
   "execution_count": null,
   "metadata": {},
   "outputs": [],
   "source": []
  }
 ]
}