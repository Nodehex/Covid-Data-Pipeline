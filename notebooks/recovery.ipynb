{
 "nbformat": 4,
 "nbformat_minor": 2,
 "metadata": {
  "language_info": {
   "name": "python",
   "codemirror_mode": {
    "name": "ipython",
    "version": 3
   },
   "version": "3.8.0-final"
  },
  "orig_nbformat": 2,
  "file_extension": ".py",
  "mimetype": "text/x-python",
  "name": "python",
  "npconvert_exporter": "python",
  "pygments_lexer": "ipython3",
  "version": 3,
  "kernelspec": {
   "name": "python38064bitwebhookservervenv9213d98fbe6d47a5b3e5b8ae60a89daa",
   "display_name": "Python 3.8.0 64-bit ('webhookserver': venv)"
  }
 },
 "cells": [
  {
   "cell_type": "code",
   "execution_count": 492,
   "metadata": {},
   "outputs": [],
   "source": [
    "import pandas as pd\n",
    "import json"
   ]
  },
  {
   "cell_type": "code",
   "execution_count": 493,
   "metadata": {},
   "outputs": [],
   "source": [
    "df = pd.read_csv('../csv/time_series_covid19_recovered_global.csv', index_col=0)\n",
    "df = df.drop(columns=['Lat', 'Long'])\n",
    ""
   ]
  },
  {
   "cell_type": "code",
   "execution_count": 494,
   "metadata": {},
   "outputs": [],
   "source": [
    "df = df.reset_index().set_index('Country/Region')\n",
    "df = df.rename({'Congo (Brazzaville)': 'Congo', 'Congo (Kinshasa)': 'Democratic Republic of Congo'})"
   ]
  },
  {
   "cell_type": "code",
   "execution_count": 495,
   "metadata": {},
   "outputs": [],
   "source": [
    "def merge_provinces(country_name, df):\n",
    "    country = df.loc[[country_name]].drop(columns=['Province/State'])\n",
    "    country = country.sum(axis=0).rename(country_name)\n",
    "    df = df.drop([country_name]).append(country)\n",
    "    return df"
   ]
  },
  {
   "cell_type": "code",
   "execution_count": 496,
   "metadata": {},
   "outputs": [],
   "source": [
    "# Dropping the ships\n",
    "df = df.drop(['Diamond Princess'])\n",
    "df = df.drop(['MS Zaandam'])\n",
    "# Merge countries with provinces into a single row\n",
    "df = merge_provinces('China', df)\n",
    "df = merge_provinces('Australia', df)"
   ]
  },
  {
   "cell_type": "code",
   "execution_count": 497,
   "metadata": {},
   "outputs": [],
   "source": [
    "mask = (df['Province/State'] != '0') & (pd.isnull(df['Province/State']) != True)\n",
    "df2 = df.loc[mask]\n",
    "df2 = df2.set_index('Province/State')\n",
    "df2.index = df2.index.rename('Country/Region')"
   ]
  },
  {
   "cell_type": "code",
   "execution_count": 498,
   "metadata": {},
   "outputs": [
    {
     "output_type": "execute_result",
     "data": {
      "text/plain": "Province/State      NaN\n1/22/20              28\n1/23/20              30\n1/24/20              36\n1/25/20              39\n                  ...  \n3/31/20           76206\n4/1/20            76405\n4/2/20            76565\n4/3/20            76760\n4/4/20            76946\nName: China, Length: 75, dtype: object"
     },
     "metadata": {},
     "execution_count": 498
    }
   ],
   "source": [
    "df.loc['China']"
   ]
  },
  {
   "cell_type": "code",
   "execution_count": 499,
   "metadata": {},
   "outputs": [],
   "source": [
    "df = df[(df['Province/State'] == '0') | (pd.isnull(df['Province/State']) == True)]"
   ]
  },
  {
   "cell_type": "code",
   "execution_count": 500,
   "metadata": {},
   "outputs": [],
   "source": [
    "df = df.append(df2)\n",
    "df = df.drop(columns='Province/State')"
   ]
  },
  {
   "cell_type": "code",
   "execution_count": 501,
   "metadata": {},
   "outputs": [],
   "source": [
    "df = df.stack().reset_index(level=1)\n",
    "df = df.rename(columns={'level_1': 'date', 0: 'recovered'})"
   ]
  },
  {
   "cell_type": "code",
   "execution_count": 502,
   "metadata": {},
   "outputs": [],
   "source": [
    "df['date'] = pd.to_datetime(df['date']).apply(lambda x: x.strftime('%Y-%m-%d'))"
   ]
  },
  {
   "cell_type": "code",
   "execution_count": 503,
   "metadata": {},
   "outputs": [],
   "source": [
    "df = df.rename({'Cabo Verde': 'Cape Verde', 'US': 'United States', 'West Bank and Gaza': 'Palestine', 'Burma': 'Myanmar', 'Channel Islands': 'Jersey', 'Holy See': 'Vatican', 'Korea, South': 'South Korea', 'Falkland Islands (Islas Malvinas)': 'Falkland Islands', 'Sint Maarten': 'Sint Maarten (Dutch part)', 'Taiwan*': 'Taiwan','St Martin' :'Saint Martin'})"
   ]
  },
  {
   "cell_type": "code",
   "execution_count": 504,
   "metadata": {},
   "outputs": [],
   "source": [
    "full_data = pd.read_csv('../data/full_data.csv', index_col=0)"
   ]
  },
  {
   "cell_type": "code",
   "execution_count": 505,
   "metadata": {},
   "outputs": [],
   "source": [
    "difference = df.index.difference(full_data.index).to_list()\n",
    "full_diff = full_data.index.difference(df.index).to_list()"
   ]
  },
  {
   "cell_type": "code",
   "execution_count": 506,
   "metadata": {},
   "outputs": [],
   "source": [
    "alpha3 = pd.read_csv('../data/country_codes.csv')\n",
    "pattern = {'ç': 'c', 'ô': 'o', '’': \"'\", 'é': 'e'}\n",
    "alpha3['Country or Area'] = alpha3['Country or Area'].replace(pattern, regex=True)\n",
    "alpha3['Country or Area'] = alpha3['Country or Area'].str.replace('\\(.*\\)', '',regex=True)\n",
    "alpha3['Country or Area'] = alpha3['Country or Area'].str.replace('\\s+the', '',regex=True)\n",
    "alpha3['Country or Area'] = alpha3['Country or Area'].str.strip()\n",
    "alpha3 = alpha3.set_index('Country or Area')\n",
    "alpha3 = alpha3['ISO-alpha3 code']"
   ]
  },
  {
   "cell_type": "code",
   "execution_count": 507,
   "metadata": {},
   "outputs": [],
   "source": [
    "country_fixes = {'World': 'World', 'Brunei': 'BRN', 'Vatican': 'VAT', 'United States': 'USA', 'United Kingdom': 'GBR', 'International': 'International', 'Tanzania': 'TZA', 'Kosovo': 'RKS','Taiwan': 'TWN', 'Laos': 'LAO', 'Syria': 'SYR', 'Moldova': 'MDA', 'South Korea': 'KOR', 'Palestine': 'PSE', 'Russia': 'RUS', 'Sint Maarten (Dutch part)': 'SXM', 'Saint Vincent and the Grenadines': 'VCT'}\n",
    "country_fixes = pd.Series(country_fixes)\n",
    "alpha3 = alpha3.append(country_fixes)"
   ]
  },
  {
   "cell_type": "code",
   "execution_count": 508,
   "metadata": {},
   "outputs": [
    {
     "output_type": "execute_result",
     "data": {
      "text/plain": "                        date  recovered\nCountry/Region                         \nAfghanistan       2020-01-22        0.0\nAfghanistan       2020-01-23        0.0\nAfghanistan       2020-01-24        0.0\nAfghanistan       2020-01-25        0.0\nAfghanistan       2020-01-26        0.0\n...                      ...        ...\nFalkland Islands  2020-03-31        0.0\nFalkland Islands  2020-04-01        0.0\nFalkland Islands  2020-04-02        0.0\nFalkland Islands  2020-04-03        0.0\nFalkland Islands  2020-04-04        0.0\n\n[15096 rows x 2 columns]",
      "text/html": "<div>\n<style scoped>\n    .dataframe tbody tr th:only-of-type {\n        vertical-align: middle;\n    }\n\n    .dataframe tbody tr th {\n        vertical-align: top;\n    }\n\n    .dataframe thead th {\n        text-align: right;\n    }\n</style>\n<table border=\"1\" class=\"dataframe\">\n  <thead>\n    <tr style=\"text-align: right;\">\n      <th></th>\n      <th>date</th>\n      <th>recovered</th>\n    </tr>\n    <tr>\n      <th>Country/Region</th>\n      <th></th>\n      <th></th>\n    </tr>\n  </thead>\n  <tbody>\n    <tr>\n      <th>Afghanistan</th>\n      <td>2020-01-22</td>\n      <td>0.0</td>\n    </tr>\n    <tr>\n      <th>Afghanistan</th>\n      <td>2020-01-23</td>\n      <td>0.0</td>\n    </tr>\n    <tr>\n      <th>Afghanistan</th>\n      <td>2020-01-24</td>\n      <td>0.0</td>\n    </tr>\n    <tr>\n      <th>Afghanistan</th>\n      <td>2020-01-25</td>\n      <td>0.0</td>\n    </tr>\n    <tr>\n      <th>Afghanistan</th>\n      <td>2020-01-26</td>\n      <td>0.0</td>\n    </tr>\n    <tr>\n      <th>...</th>\n      <td>...</td>\n      <td>...</td>\n    </tr>\n    <tr>\n      <th>Falkland Islands</th>\n      <td>2020-03-31</td>\n      <td>0.0</td>\n    </tr>\n    <tr>\n      <th>Falkland Islands</th>\n      <td>2020-04-01</td>\n      <td>0.0</td>\n    </tr>\n    <tr>\n      <th>Falkland Islands</th>\n      <td>2020-04-02</td>\n      <td>0.0</td>\n    </tr>\n    <tr>\n      <th>Falkland Islands</th>\n      <td>2020-04-03</td>\n      <td>0.0</td>\n    </tr>\n    <tr>\n      <th>Falkland Islands</th>\n      <td>2020-04-04</td>\n      <td>0.0</td>\n    </tr>\n  </tbody>\n</table>\n<p>15096 rows × 2 columns</p>\n</div>"
     },
     "metadata": {},
     "execution_count": 508
    }
   ],
   "source": [
    "df"
   ]
  },
  {
   "cell_type": "code",
   "execution_count": 509,
   "metadata": {},
   "outputs": [],
   "source": [
    "df['Country'] = df.index.get_level_values(0)\n",
    "df['alpha3'] = df['Country'].map(alpha3)\n",
    "df = df.drop(columns='Country')"
   ]
  },
  {
   "cell_type": "code",
   "execution_count": 510,
   "metadata": {},
   "outputs": [],
   "source": [
    "data = {}\n",
    "for group in df.groupby(level=0):\n",
    "    data[group[0]] = {\n",
    "        'alpha3': group[1]['alpha3'].unique()[0],\n",
    "        'recovered': group[1][['date', 'recovered']].values.tolist()\n",
    "    }"
   ]
  },
  {
   "cell_type": "code",
   "execution_count": 511,
   "metadata": {},
   "outputs": [
    {
     "output_type": "execute_result",
     "data": {
      "text/plain": "329127"
     },
     "metadata": {},
     "execution_count": 511
    }
   ],
   "source": [
    "file_name = 'recovery_data'\n",
    "open(f'../json/{file_name}.json', 'w').write(json.dumps(data))"
   ]
  },
  {
   "cell_type": "code",
   "execution_count": null,
   "metadata": {},
   "outputs": [],
   "source": []
  }
 ]
}