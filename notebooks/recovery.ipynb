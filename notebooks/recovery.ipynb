{
 "nbformat": 4,
 "nbformat_minor": 2,
 "metadata": {
  "language_info": {
   "name": "python",
   "codemirror_mode": {
    "name": "ipython",
    "version": 3
   },
   "version": "3.8.0-final"
  },
  "orig_nbformat": 2,
  "file_extension": ".py",
  "mimetype": "text/x-python",
  "name": "python",
  "npconvert_exporter": "python",
  "pygments_lexer": "ipython3",
  "version": 3,
  "kernelspec": {
   "name": "python38064bitwebhookservervenv9213d98fbe6d47a5b3e5b8ae60a89daa",
   "display_name": "Python 3.8.0 64-bit ('webhookserver': venv)"
  }
 },
 "cells": [
  {
   "cell_type": "code",
   "execution_count": 160,
   "metadata": {},
   "outputs": [],
   "source": [
    "import pandas as pd\n",
    "import numpy as np"
   ]
  },
  {
   "cell_type": "code",
   "execution_count": 225,
   "metadata": {},
   "outputs": [],
   "source": [
    "df = pd.read_csv('../csv/time_series_covid19_recovered_global.csv', index_col=0)\n",
    "df = df.drop(columns=['Lat', 'Long'])"
   ]
  },
  {
   "cell_type": "code",
   "execution_count": 226,
   "metadata": {},
   "outputs": [],
   "source": [
    "df = df.reset_index().set_index('Country/Region')"
   ]
  },
  {
   "cell_type": "code",
   "execution_count": 227,
   "metadata": {},
   "outputs": [],
   "source": [
    "china = df.loc[['China']].drop(columns=['Province/State'])\n",
    "china = china.sum(axis=0).rename(\"China\")\n",
    "df = df.drop(['China']).append(china)"
   ]
  },
  {
   "cell_type": "code",
   "execution_count": 228,
   "metadata": {},
   "outputs": [],
   "source": [
    "australia = df.loc[['Australia']].drop(columns=['Province/State'])\n",
    "australia = australia.sum(axis=0).rename(\"Australia\")\n",
    "df = df.drop(['Australia']).append(australia)"
   ]
  },
  {
   "cell_type": "code",
   "execution_count": 229,
   "metadata": {},
   "outputs": [],
   "source": [
    "mask = (df['Province/State'] != '0') & (pd.isnull(df['Province/State']) != True)\n",
    "df2 = df.loc[mask]\n",
    "df2 = df2.set_index('Province/State')\n",
    "df2.index = df2.index.rename('Country/Region')"
   ]
  },
  {
   "cell_type": "code",
   "execution_count": 230,
   "metadata": {},
   "outputs": [],
   "source": [
    "df = df.drop(df.loc[mask].index)"
   ]
  },
  {
   "cell_type": "code",
   "execution_count": 231,
   "metadata": {},
   "outputs": [],
   "source": [
    "df = df.append(df2)\n",
    "df = df.drop(columns='Province/State')"
   ]
  },
  {
   "cell_type": "code",
   "execution_count": 232,
   "metadata": {},
   "outputs": [],
   "source": [
    "df = df.stack().reset_index(level=1)\n",
    "df = df.rename(columns={'level_1': 'date', 0: 'recovered'})"
   ]
  },
  {
   "cell_type": "code",
   "execution_count": 233,
   "metadata": {},
   "outputs": [],
   "source": [
    "df['date'] = pd.to_datetime(df['date']).apply(lambda x: x.strftime('%Y-%m-%d'))"
   ]
  },
  {
   "cell_type": "code",
   "execution_count": 234,
   "metadata": {},
   "outputs": [
    {
     "output_type": "execute_result",
     "data": {
      "text/plain": "                                        date  recovered\nCountry/Region                                         \nAfghanistan                       2020-01-22        0.0\nAfghanistan                       2020-01-23        0.0\nAfghanistan                       2020-01-24        0.0\nAfghanistan                       2020-01-25        0.0\nAfghanistan                       2020-01-26        0.0\n...                                      ...        ...\nBonaire, Sint Eustatius and Saba  2020-03-30        0.0\nBonaire, Sint Eustatius and Saba  2020-03-31        0.0\nBonaire, Sint Eustatius and Saba  2020-04-01        0.0\nBonaire, Sint Eustatius and Saba  2020-04-02        0.0\nBonaire, Sint Eustatius and Saba  2020-04-03        0.0\n\n[14673 rows x 2 columns]",
      "text/html": "<div>\n<style scoped>\n    .dataframe tbody tr th:only-of-type {\n        vertical-align: middle;\n    }\n\n    .dataframe tbody tr th {\n        vertical-align: top;\n    }\n\n    .dataframe thead th {\n        text-align: right;\n    }\n</style>\n<table border=\"1\" class=\"dataframe\">\n  <thead>\n    <tr style=\"text-align: right;\">\n      <th></th>\n      <th>date</th>\n      <th>recovered</th>\n    </tr>\n    <tr>\n      <th>Country/Region</th>\n      <th></th>\n      <th></th>\n    </tr>\n  </thead>\n  <tbody>\n    <tr>\n      <th>Afghanistan</th>\n      <td>2020-01-22</td>\n      <td>0.0</td>\n    </tr>\n    <tr>\n      <th>Afghanistan</th>\n      <td>2020-01-23</td>\n      <td>0.0</td>\n    </tr>\n    <tr>\n      <th>Afghanistan</th>\n      <td>2020-01-24</td>\n      <td>0.0</td>\n    </tr>\n    <tr>\n      <th>Afghanistan</th>\n      <td>2020-01-25</td>\n      <td>0.0</td>\n    </tr>\n    <tr>\n      <th>Afghanistan</th>\n      <td>2020-01-26</td>\n      <td>0.0</td>\n    </tr>\n    <tr>\n      <th>...</th>\n      <td>...</td>\n      <td>...</td>\n    </tr>\n    <tr>\n      <th>Bonaire, Sint Eustatius and Saba</th>\n      <td>2020-03-30</td>\n      <td>0.0</td>\n    </tr>\n    <tr>\n      <th>Bonaire, Sint Eustatius and Saba</th>\n      <td>2020-03-31</td>\n      <td>0.0</td>\n    </tr>\n    <tr>\n      <th>Bonaire, Sint Eustatius and Saba</th>\n      <td>2020-04-01</td>\n      <td>0.0</td>\n    </tr>\n    <tr>\n      <th>Bonaire, Sint Eustatius and Saba</th>\n      <td>2020-04-02</td>\n      <td>0.0</td>\n    </tr>\n    <tr>\n      <th>Bonaire, Sint Eustatius and Saba</th>\n      <td>2020-04-03</td>\n      <td>0.0</td>\n    </tr>\n  </tbody>\n</table>\n<p>14673 rows × 2 columns</p>\n</div>"
     },
     "metadata": {},
     "execution_count": 234
    }
   ],
   "source": [
    "df"
   ]
  },
  {
   "cell_type": "code",
   "execution_count": null,
   "metadata": {},
   "outputs": [],
   "source": []
  }
 ]
}