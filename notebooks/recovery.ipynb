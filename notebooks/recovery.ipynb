{
 "nbformat": 4,
 "nbformat_minor": 2,
 "metadata": {
  "language_info": {
   "name": "python",
   "codemirror_mode": {
    "name": "ipython",
    "version": 3
   },
   "version": "3.8.0-final"
  },
  "orig_nbformat": 2,
  "file_extension": ".py",
  "mimetype": "text/x-python",
  "name": "python",
  "npconvert_exporter": "python",
  "pygments_lexer": "ipython3",
  "version": 3,
  "kernelspec": {
   "name": "python38064bitwebhookservervenv9213d98fbe6d47a5b3e5b8ae60a89daa",
   "display_name": "Python 3.8.0 64-bit ('webhookserver': venv)"
  }
 },
 "cells": [
  {
   "cell_type": "code",
   "execution_count": 418,
   "metadata": {},
   "outputs": [],
   "source": [
    "import pandas as pd\n",
    "import numpy as np"
   ]
  },
  {
   "cell_type": "code",
   "execution_count": 419,
   "metadata": {},
   "outputs": [],
   "source": [
    "df = pd.read_csv('../csv/time_series_covid19_recovered_global.csv', index_col=0)\n",
    "df = df.drop(columns=['Lat', 'Long'])\n",
    ""
   ]
  },
  {
   "cell_type": "code",
   "execution_count": 420,
   "metadata": {},
   "outputs": [],
   "source": [
    "df = df.reset_index().set_index('Country/Region')\n",
    "df = df.rename({'Congo (Brazzaville)': 'Congo', 'Congo (Kinshasa)': 'Democratic Republic of Congo'})"
   ]
  },
  {
   "cell_type": "code",
   "execution_count": 421,
   "metadata": {},
   "outputs": [],
   "source": [
    "def merge_provinces(country_name, df):\n",
    "    country = df.loc[[country_name]].drop(columns=['Province/State'])\n",
    "    country = country.sum(axis=0).rename(country_name)\n",
    "    df = df.drop([country_name]).append(country)\n",
    "    return df"
   ]
  },
  {
   "cell_type": "code",
   "execution_count": 422,
   "metadata": {},
   "outputs": [],
   "source": [
    "# Dropping the ships\n",
    "df = df.drop(['Diamond Princess'])\n",
    "df = df.drop(['MS Zaandam'])\n",
    "# Merge countries with provinces into a single row\n",
    "df = merge_provinces('China', df)\n",
    "df = merge_provinces('Australia', df)"
   ]
  },
  {
   "cell_type": "code",
   "execution_count": 423,
   "metadata": {},
   "outputs": [],
   "source": [
    "mask = (df['Province/State'] != '0') & (pd.isnull(df['Province/State']) != True)\n",
    "df2 = df.loc[mask]\n",
    "df2 = df2.set_index('Province/State')\n",
    "df2.index = df2.index.rename('Country/Region')"
   ]
  },
  {
   "cell_type": "code",
   "execution_count": 424,
   "metadata": {},
   "outputs": [
    {
     "output_type": "execute_result",
     "data": {
      "text/plain": "Province/State      NaN\n1/22/20              28\n1/23/20              30\n1/24/20              36\n1/25/20              39\n                  ...  \n3/31/20           76206\n4/1/20            76405\n4/2/20            76565\n4/3/20            76760\n4/4/20            76946\nName: China, Length: 75, dtype: object"
     },
     "metadata": {},
     "execution_count": 424
    }
   ],
   "source": [
    "df.loc['China']"
   ]
  },
  {
   "cell_type": "code",
   "execution_count": 425,
   "metadata": {},
   "outputs": [],
   "source": [
    "df = df[(df['Province/State'] == '0') | (pd.isnull(df['Province/State']) == True)]"
   ]
  },
  {
   "cell_type": "code",
   "execution_count": 426,
   "metadata": {},
   "outputs": [],
   "source": [
    "df = df.append(df2)\n",
    "df = df.drop(columns='Province/State')"
   ]
  },
  {
   "cell_type": "code",
   "execution_count": 427,
   "metadata": {},
   "outputs": [
    {
     "output_type": "execute_result",
     "data": {
      "text/plain": "1/22/20       28.0\n1/23/20       30.0\n1/24/20       36.0\n1/25/20       39.0\n1/26/20       49.0\n            ...   \n3/31/20    76206.0\n4/1/20     76405.0\n4/2/20     76565.0\n4/3/20     76760.0\n4/4/20     76946.0\nName: China, Length: 74, dtype: float64"
     },
     "metadata": {},
     "execution_count": 427
    }
   ],
   "source": [
    "df.loc['China']"
   ]
  },
  {
   "cell_type": "code",
   "execution_count": 428,
   "metadata": {},
   "outputs": [],
   "source": [
    "df = df.stack().reset_index(level=1)\n",
    "df = df.rename(columns={'level_1': 'date', 0: 'recovered'})"
   ]
  },
  {
   "cell_type": "code",
   "execution_count": 429,
   "metadata": {},
   "outputs": [],
   "source": [
    "df['date'] = pd.to_datetime(df['date']).apply(lambda x: x.strftime('%Y-%m-%d'))"
   ]
  },
  {
   "cell_type": "code",
   "execution_count": 430,
   "metadata": {},
   "outputs": [],
   "source": [
    "df = df.rename({'Cabo Verde': 'Cape Verde', 'US': 'United States', 'West Bank and Gaza': 'Palestine', 'Burma': 'Myanmar', 'Channel Islands': 'Jersey', 'Holy See': 'Vatican', 'Korea, South': 'South Korea', 'Falkland Islands (Islas Malvinas)': 'Falkland Islands', 'Sint Maarten': 'Sint Maarten (Dutch part)', 'Taiwan*': 'Taiwan'})"
   ]
  },
  {
   "cell_type": "code",
   "execution_count": 431,
   "metadata": {},
   "outputs": [],
   "source": [
    "full_data = pd.read_csv('../data/full_data.csv', index_col=0)"
   ]
  },
  {
   "cell_type": "code",
   "execution_count": 436,
   "metadata": {},
   "outputs": [],
   "source": [
    "difference = df.index.difference(full_data.index).to_list()\n",
    "full_diff = full_data.index.difference(df.index).to_list()"
   ]
  },
  {
   "cell_type": "code",
   "execution_count": 437,
   "metadata": {},
   "outputs": [
    {
     "output_type": "execute_result",
     "data": {
      "text/plain": "['French Guiana',\n 'Guadeloupe',\n 'Martinique',\n 'Mayotte',\n 'Reunion',\n 'St Martin']"
     },
     "metadata": {},
     "execution_count": 437
    }
   ],
   "source": [
    "difference"
   ]
  },
  {
   "cell_type": "code",
   "execution_count": 438,
   "metadata": {},
   "outputs": [
    {
     "output_type": "execute_result",
     "data": {
      "text/plain": "['Guam',\n 'Guernsey',\n 'International',\n 'Northern Mariana Islands',\n 'Puerto Rico',\n 'United States Virgin Islands',\n 'World']"
     },
     "metadata": {},
     "execution_count": 438
    }
   ],
   "source": [
    "full_diff"
   ]
  },
  {
   "cell_type": "code",
   "execution_count": null,
   "metadata": {},
   "outputs": [],
   "source": []
  }
 ]
}